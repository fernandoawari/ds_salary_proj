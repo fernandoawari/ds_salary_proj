{
 "cells": [
  {
   "cell_type": "code",
   "execution_count": 2,
   "metadata": {},
   "outputs": [
    {
     "name": "stdout",
     "output_type": "stream",
     "text": [
      " x out worked\n",
      "Progress: 0/5\n",
      "Progress: 1/5\n",
      "Progress: 2/5\n",
      "Progress: 3/5\n",
      "Progress: 4/5\n",
      "Progress: 5/5\n"
     ]
    }
   ],
   "source": [
    "import glassdoor_scraper as gs\n",
    "import pandas as pd\n",
    "path = '/Users/fionafong/Awari/chromedriver'\n",
    "\n",
    "df = gs.get_jobs('data scientist',5, False, path, 15)\n",
    "\n",
    "df.to_csv('glassdoor_jobs.csv', index = False)"
   ]
  },
  {
   "cell_type": "code",
   "execution_count": null,
   "metadata": {},
   "outputs": [],
   "source": []
  }
 ],
 "metadata": {
  "kernelspec": {
   "display_name": "Python 3",
   "language": "python",
   "name": "python3"
  },
  "language_info": {
   "codemirror_mode": {
    "name": "ipython",
    "version": 3
   },
   "file_extension": ".py",
   "mimetype": "text/x-python",
   "name": "python",
   "nbconvert_exporter": "python",
   "pygments_lexer": "ipython3",
   "version": "3.8.3"
  }
 },
 "nbformat": 4,
 "nbformat_minor": 4
}
