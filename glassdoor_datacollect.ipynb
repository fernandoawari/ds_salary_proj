{
 "cells": [
  {
   "cell_type": "code",
   "execution_count": null,
   "metadata": {},
   "outputs": [],
   "source": [
    "import glassdoor_scraper as gs\n",
    "import pandas as pd\n",
    "path = '/Users/fionafong/Awari/glassdoor_scraper.ipynb'\n",
    "\n",
    "df = gs.get_jobs('data scientist',50, False, path, 15)\n",
    "\n",
    "df.to_csv('glassdoor_jobs.csv', index = False)"
   ]
  }
 ],
 "metadata": {
  "kernelspec": {
   "display_name": "Python 3",
   "language": "python",
   "name": "python3"
  },
  "language_info": {
   "codemirror_mode": {
    "name": "ipython",
    "version": 3
   },
   "file_extension": ".py",
   "mimetype": "text/x-python",
   "name": "python",
   "nbconvert_exporter": "python",
   "pygments_lexer": "ipython3",
   "version": "3.8.3"
  }
 },
 "nbformat": 4,
 "nbformat_minor": 4
}
